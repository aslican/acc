{
 "cells": [
  {
   "cell_type": "code",
   "execution_count": 1,
   "metadata": {},
   "outputs": [],
   "source": [
    "import random"
   ]
  },
  {
   "cell_type": "code",
   "execution_count": 2,
   "metadata": {},
   "outputs": [],
   "source": [
    "def fonksiyon (a,b):\n",
    "    c = a+b\n",
    "    kazanan=\"\"\n",
    "    if a==b :print(\"berabere\",a)\n",
    "    elif \"makas\" in c and \"taş\" in c: \n",
    "        kazanan = \"taş\" \n",
    "        print (\"taş makası yener.\", kazanan)\n",
    "        \n",
    "    elif \"makas\" in c and \"kağıt\" in c: \n",
    "        kazanan = \"makas\" \n",
    "        print(\"makas kağıdı yener.\", kazanan)\n",
    "    elif \"kağıt\" in c and \"taş\" in c : \n",
    "        kazanan = \"kağıt\" \n",
    "        print(\"kağıt taşı yener.\", kazanan)\n",
    "    return kazanan"
   ]
  },
  {
   "cell_type": "code",
   "execution_count": 3,
   "metadata": {},
   "outputs": [
    {
     "name": "stdout",
     "output_type": "stream",
     "text": [
      "taş\n",
      "kağıt taşı yener. kağıt\n",
      "taş\n",
      "kağıt taşı yener. kağıt\n",
      "taş\n",
      "taş makası yener. taş\n",
      "taş\n",
      "berabere taş\n",
      "taş\n",
      "berabere taş\n",
      "taş\n",
      "taş makası yener. taş\n",
      "taş\n",
      "taş makası yener. taş\n",
      "koyduk muuoaa\n"
     ]
    }
   ],
   "source": [
    "acc=[\"taş\",\"kağıt\",\"makas\"]\n",
    "oyuncu = 0\n",
    "bilgisayar = 0\n",
    "\n",
    "while (oyuncu or bilgisayar) < 3:\n",
    "    b=random.choice(acc)\n",
    "    a = input (\"\")\n",
    "    gkc=fonksiyon(a,b)\n",
    "    if gkc == a :\n",
    "        oyuncu = oyuncu + 1\n",
    "    elif gkc == b: \n",
    "        bilgisayar = bilgisayar + 1 \n",
    "if oyuncu == 3 :  print(\"koyduk muuoaa\")\n",
    "else  :\n",
    "    bilgisayar ==3\n",
    "    print(\"makineden dayak yedik.\")        "
   ]
  },
  {
   "cell_type": "code",
   "execution_count": null,
   "metadata": {},
   "outputs": [],
   "source": []
  },
  {
   "cell_type": "code",
   "execution_count": null,
   "metadata": {},
   "outputs": [],
   "source": []
  },
  {
   "cell_type": "code",
   "execution_count": null,
   "metadata": {},
   "outputs": [],
   "source": []
  },
  {
   "cell_type": "code",
   "execution_count": null,
   "metadata": {},
   "outputs": [],
   "source": []
  },
  {
   "cell_type": "code",
   "execution_count": null,
   "metadata": {},
   "outputs": [],
   "source": []
  }
 ],
 "metadata": {
  "kernelspec": {
   "display_name": "Python 3",
   "language": "python",
   "name": "python3"
  },
  "language_info": {
   "codemirror_mode": {
    "name": "ipython",
    "version": 3
   },
   "file_extension": ".py",
   "mimetype": "text/x-python",
   "name": "python",
   "nbconvert_exporter": "python",
   "pygments_lexer": "ipython3",
   "version": "3.7.4"
  }
 },
 "nbformat": 4,
 "nbformat_minor": 2
}
